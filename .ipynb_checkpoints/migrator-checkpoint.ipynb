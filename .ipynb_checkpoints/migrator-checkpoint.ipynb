{
 "cells": [
  {
   "cell_type": "markdown",
   "metadata": {},
   "source": [
    "# LMS Migrator"
   ]
  },
  {
   "cell_type": "markdown",
   "metadata": {},
   "source": [
    "This notebook works through the development of an LMS migration tool that duplicates an existing course (exported according to IMS Common Cartridge 1.1 standards) and revises activity due dates according to user specifications."
   ]
  },
  {
   "cell_type": "markdown",
   "metadata": {},
   "source": [
    "## Import the required libraries."
   ]
  },
  {
   "cell_type": "code",
   "execution_count": 4,
   "metadata": {},
   "outputs": [],
   "source": [
    "import openpyxl as opxl    # Reads the instructors Excel-format syllabus.\n",
    "from bs4 import BeautifulSoup     # For parsing course metadata, which is in XML format."
   ]
  },
  {
   "cell_type": "markdown",
   "metadata": {},
   "source": [
    "## Read the new syllabus."
   ]
  },
  {
   "cell_type": "code",
   "execution_count": 13,
   "metadata": {},
   "outputs": [],
   "source": [
    "# Open the Excel workbook & read the worksheet named \"syllabus\"\n",
    "syllabus_wb = opxl.load_workbook(\"new_syllabus.xlsx\")\n",
    "syllabus_ws = syllabus_wb[\"syllabus\"]"
   ]
  },
  {
   "cell_type": "code",
   "execution_count": 23,
   "metadata": {},
   "outputs": [],
   "source": [
    "course_metadata = {}\n",
    "\n",
    "# syllabus_ws.values returns a list of tuples, with one tuple for each data\n",
    "#  row present. The expected format is: \n",
    "#    ('Activity Title', 'Available Date', 'Available Time',\n",
    "#     'Due Date', 'Due Time', 'Lock Date', 'Lock Time')\n",
    "# The first entry in the list contains only headers, and it may be ignored.\n",
    "\n",
    "# Extract all the data as a list. Ignore the first entry, which contains\n",
    "# only the header information \"Activity Title\", etc.\n",
    "activity_list = list(syllabus_ws.values)\n",
    "for course_activity in range(1, len(activity_list)):\n",
    "    pass"
   ]
  },
  {
   "cell_type": "code",
   "execution_count": null,
   "metadata": {},
   "outputs": [],
   "source": []
  }
 ],
 "metadata": {
  "kernelspec": {
   "display_name": "LMS_Migrator",
   "language": "python",
   "name": "lms_migrator"
  },
  "language_info": {
   "codemirror_mode": {
    "name": "ipython",
    "version": 3
   },
   "file_extension": ".py",
   "mimetype": "text/x-python",
   "name": "python",
   "nbconvert_exporter": "python",
   "pygments_lexer": "ipython3",
   "version": "3.8.5"
  }
 },
 "nbformat": 4,
 "nbformat_minor": 4
}
